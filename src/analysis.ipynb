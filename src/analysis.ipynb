{
 "cells": [
  {
   "attachments": {},
   "cell_type": "markdown",
   "metadata": {},
   "source": [
    "# Prerequisites"
   ]
  },
  {
   "cell_type": "code",
   "execution_count": 1,
   "metadata": {},
   "outputs": [],
   "source": [
    "from env_setup import *\n",
    "from agents import *\n",
    "import numpy as np"
   ]
  },
  {
   "cell_type": "code",
   "execution_count": 4,
   "metadata": {},
   "outputs": [],
   "source": [
    "class Simulation:\n",
    "    def __init__(self, num_simulations: int = 30, squad: list = [Agent0]) -> None:\n",
    "        self.num_simulations = num_simulations\n",
    "        self.squad = squad\n",
    "        self.results = {}\n",
    "        for Agent in squad:\n",
    "            self.results[Agent.__name__] = []\n",
    "    \n",
    "    def run(self):\n",
    "        for i in range(self.num_simulations):\n",
    "            g = Graph()\n",
    "            g.initialize()\n",
    "            target_init_location = np.random.randint(0, 40)\n",
    "            \n",
    "            # start the game\n",
    "            for Agent in self.squad:\n",
    "                target = Target(g, target_init_location)\n",
    "                agent = Agent(g, target)\n",
    "                num_steps = 0\n",
    "                while agent.location != target.location:\n",
    "                    agent.move()\n",
    "                    target.move()\n",
    "                    num_steps += 1\n",
    "                self.results[Agent.__name__] += [num_steps]\n",
    "        \n",
    "        for key in self.results.keys():\n",
    "            print(\"The average number of steps for {} is {} with std {}\".format(key, np.mean(self.results[key]), np.std(self.results[key])))\n",
    "    "
   ]
  },
  {
   "attachments": {},
   "cell_type": "markdown",
   "metadata": {},
   "source": [
    "# Analysis"
   ]
  },
  {
   "cell_type": "code",
   "execution_count": 5,
   "metadata": {},
   "outputs": [
    {
     "name": "stdout",
     "output_type": "stream",
     "text": [
      "The average number of steps for Agent0 is 80.23333333333333 with std 84.39853210940474\n"
     ]
    }
   ],
   "source": [
    "test = Simulation()\n",
    "test.run()"
   ]
  }
 ],
 "metadata": {
  "kernelspec": {
   "display_name": "base",
   "language": "python",
   "name": "python3"
  },
  "language_info": {
   "codemirror_mode": {
    "name": "ipython",
    "version": 3
   },
   "file_extension": ".py",
   "mimetype": "text/x-python",
   "name": "python",
   "nbconvert_exporter": "python",
   "pygments_lexer": "ipython3",
   "version": "3.9.7"
  },
  "orig_nbformat": 4
 },
 "nbformat": 4,
 "nbformat_minor": 2
}
