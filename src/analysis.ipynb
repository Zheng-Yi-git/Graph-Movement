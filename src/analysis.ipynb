{
 "cells": [
  {
   "attachments": {},
   "cell_type": "markdown",
   "metadata": {},
   "source": [
    "# Prerequisites"
   ]
  },
  {
   "cell_type": "code",
   "execution_count": 1,
   "metadata": {},
   "outputs": [],
   "source": [
    "from env_setup import *\n",
    "from agent import *\n",
    "import numpy as np"
   ]
  },
  {
   "cell_type": "code",
   "execution_count": 2,
   "metadata": {},
   "outputs": [],
   "source": [
    "class Simulation:\n",
    "    def __init__(self, num_simulations: int = 30, squad: list = [Agent0]) -> None:\n",
    "        self.num_simulations = num_simulations\n",
    "        self.squad = squad\n",
    "        self.results = {}\n",
    "        for Agent in squad:\n",
    "            self.results[Agent.__name__] = []\n",
    "\n",
    "    def run(self, verbose: bool = False):\n",
    "        for i in range(self.num_simulations):\n",
    "            g = Graph()\n",
    "            g.initialize()\n",
    "            target_init_location = np.random.randint(0, 40)\n",
    "\n",
    "            if verbose:\n",
    "                print(\"============== Simulation {} ==============\".format(i + 1))\n",
    "\n",
    "            # start the game\n",
    "            for Agent in self.squad:\n",
    "                target = Target(g, target_init_location)\n",
    "                agent = Agent(g, target)\n",
    "                num_steps = 0\n",
    "                while agent.location != target.location:\n",
    "                    target.move()\n",
    "                    agent.move()\n",
    "                    if verbose:\n",
    "                        print(\n",
    "                            \"{} is at node {}.\".format(\n",
    "                                Agent.__name__, agent.location + 1\n",
    "                            )\n",
    "                        )\n",
    "                    num_steps += 1\n",
    "                self.results[Agent.__name__] += [num_steps]\n",
    "\n",
    "                if verbose:\n",
    "                    print(\n",
    "                        \"{} found the target in {} steps.\".format(\n",
    "                            Agent.__name__, num_steps\n",
    "                        )\n",
    "                    )\n",
    "\n",
    "        for key in self.results.keys():\n",
    "            print(\n",
    "                \"The average number of steps for {} is {} with std {}\".format(\n",
    "                    key, np.mean(self.results[key]), np.std(self.results[key])\n",
    "                )\n",
    "            )"
   ]
  },
  {
   "attachments": {},
   "cell_type": "markdown",
   "metadata": {},
   "source": [
    "# Analysis"
   ]
  },
  {
   "cell_type": "code",
   "execution_count": 28,
   "metadata": {},
   "outputs": [
    {
     "name": "stdout",
     "output_type": "stream",
     "text": [
      "The average number of steps for Agent1 is 6.53 with std 6.674810858743489\n",
      "The average number of steps for Agent2 is 7.422 with std 7.19249025025408\n"
     ]
    }
   ],
   "source": [
    "test = Simulation(squad=[Agent1, Agent2], num_simulations=500)\n",
    "test.run()"
   ]
  }
 ],
 "metadata": {
  "kernelspec": {
   "display_name": "base",
   "language": "python",
   "name": "python3"
  },
  "language_info": {
   "codemirror_mode": {
    "name": "ipython",
    "version": 3
   },
   "file_extension": ".py",
   "mimetype": "text/x-python",
   "name": "python",
   "nbconvert_exporter": "python",
   "pygments_lexer": "ipython3",
   "version": "3.8.13"
  },
  "orig_nbformat": 4
 },
 "nbformat": 4,
 "nbformat_minor": 2
}
